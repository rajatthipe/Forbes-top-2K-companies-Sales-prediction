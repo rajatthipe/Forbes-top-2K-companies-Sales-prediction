{
 "cells": [
  {
   "cell_type": "code",
   "execution_count": 1,
   "id": "9ff9f4c1-cd90-4339-a959-817da4ecf69e",
   "metadata": {},
   "outputs": [],
   "source": [
    "import pandas as pd"
   ]
  },
  {
   "cell_type": "code",
   "execution_count": 4,
   "id": "99ff9df0-46e8-4505-a1e7-9f6a6231187f",
   "metadata": {},
   "outputs": [
    {
     "data": {
      "text/html": [
       "<div>\n",
       "<style scoped>\n",
       "    .dataframe tbody tr th:only-of-type {\n",
       "        vertical-align: middle;\n",
       "    }\n",
       "\n",
       "    .dataframe tbody tr th {\n",
       "        vertical-align: top;\n",
       "    }\n",
       "\n",
       "    .dataframe thead th {\n",
       "        text-align: right;\n",
       "    }\n",
       "</style>\n",
       "<table border=\"1\" class=\"dataframe\">\n",
       "  <thead>\n",
       "    <tr style=\"text-align: right;\">\n",
       "      <th></th>\n",
       "      <th>Rank</th>\n",
       "      <th>Name</th>\n",
       "      <th>Sales</th>\n",
       "      <th>Profit</th>\n",
       "      <th>Assets</th>\n",
       "      <th>Market Value</th>\n",
       "      <th>Industry</th>\n",
       "      <th>Founded</th>\n",
       "      <th>Headquarters</th>\n",
       "      <th>Country</th>\n",
       "      <th>CEO</th>\n",
       "      <th>Employees</th>\n",
       "    </tr>\n",
       "  </thead>\n",
       "  <tbody>\n",
       "    <tr>\n",
       "      <th>0</th>\n",
       "      <td>1</td>\n",
       "      <td>JPMorgan Chase</td>\n",
       "      <td>252.9</td>\n",
       "      <td>50.0</td>\n",
       "      <td>4090.7</td>\n",
       "      <td>588.1</td>\n",
       "      <td>Banking and Financial Services</td>\n",
       "      <td>2000.0</td>\n",
       "      <td>New York- New York</td>\n",
       "      <td>United States</td>\n",
       "      <td>Jamie Dimon</td>\n",
       "      <td>186751.0</td>\n",
       "    </tr>\n",
       "    <tr>\n",
       "      <th>1</th>\n",
       "      <td>2</td>\n",
       "      <td>Berkshire Hathaway</td>\n",
       "      <td>369.0</td>\n",
       "      <td>73.4</td>\n",
       "      <td>1070.0</td>\n",
       "      <td>899.1</td>\n",
       "      <td>Conglomerate</td>\n",
       "      <td>1839.0</td>\n",
       "      <td>Omaha- Nebraska</td>\n",
       "      <td>United States</td>\n",
       "      <td>Warren Edward Buffett</td>\n",
       "      <td>396500.0</td>\n",
       "    </tr>\n",
       "    <tr>\n",
       "      <th>2</th>\n",
       "      <td>3</td>\n",
       "      <td>Saudi Arabian Oil Company (Saudi Aramco)</td>\n",
       "      <td>489.1</td>\n",
       "      <td>116.9</td>\n",
       "      <td>661.5</td>\n",
       "      <td>1919.3</td>\n",
       "      <td>Construction- Chemicals- Raw Materials</td>\n",
       "      <td>1933.0</td>\n",
       "      <td>Dhahran</td>\n",
       "      <td>Saudi Arabia</td>\n",
       "      <td>Amin bin Hasan Al-Nasser</td>\n",
       "      <td>70000.0</td>\n",
       "    </tr>\n",
       "    <tr>\n",
       "      <th>3</th>\n",
       "      <td>4</td>\n",
       "      <td>ICBC</td>\n",
       "      <td>223.8</td>\n",
       "      <td>50.4</td>\n",
       "      <td>6586.0</td>\n",
       "      <td>215.2</td>\n",
       "      <td>Banking and Financial Services</td>\n",
       "      <td>1984.0</td>\n",
       "      <td>Beijing</td>\n",
       "      <td>China</td>\n",
       "      <td>Wang Jingwu</td>\n",
       "      <td>427587.0</td>\n",
       "    </tr>\n",
       "    <tr>\n",
       "      <th>4</th>\n",
       "      <td>5</td>\n",
       "      <td>Bank of America</td>\n",
       "      <td>183.3</td>\n",
       "      <td>25.0</td>\n",
       "      <td>3273.8</td>\n",
       "      <td>307.3</td>\n",
       "      <td>Banking and Financial Services</td>\n",
       "      <td>1904.0</td>\n",
       "      <td>Charlotte- North Carolina</td>\n",
       "      <td>United States</td>\n",
       "      <td>Brian T. Moynihan</td>\n",
       "      <td>166140.0</td>\n",
       "    </tr>\n",
       "  </tbody>\n",
       "</table>\n",
       "</div>"
      ],
      "text/plain": [
       "   Rank                                      Name  Sales  Profit  Assets  \\\n",
       "0     1                            JPMorgan Chase  252.9    50.0  4090.7   \n",
       "1     2                        Berkshire Hathaway  369.0    73.4  1070.0   \n",
       "2     3  Saudi Arabian Oil Company (Saudi Aramco)  489.1   116.9   661.5   \n",
       "3     4                                      ICBC  223.8    50.4  6586.0   \n",
       "4     5                           Bank of America  183.3    25.0  3273.8   \n",
       "\n",
       "   Market Value                                Industry  Founded  \\\n",
       "0         588.1          Banking and Financial Services   2000.0   \n",
       "1         899.1                            Conglomerate   1839.0   \n",
       "2        1919.3  Construction- Chemicals- Raw Materials   1933.0   \n",
       "3         215.2          Banking and Financial Services   1984.0   \n",
       "4         307.3          Banking and Financial Services   1904.0   \n",
       "\n",
       "                Headquarters        Country                       CEO  \\\n",
       "0         New York- New York  United States               Jamie Dimon   \n",
       "1            Omaha- Nebraska  United States     Warren Edward Buffett   \n",
       "2                    Dhahran   Saudi Arabia  Amin bin Hasan Al-Nasser   \n",
       "3                    Beijing          China               Wang Jingwu   \n",
       "4  Charlotte- North Carolina  United States         Brian T. Moynihan   \n",
       "\n",
       "   Employees  \n",
       "0   186751.0  \n",
       "1   396500.0  \n",
       "2    70000.0  \n",
       "3   427587.0  \n",
       "4   166140.0  "
      ]
     },
     "execution_count": 4,
     "metadata": {},
     "output_type": "execute_result"
    }
   ],
   "source": [
    "df = pd.read_csv(r\"D:\\Downloads\\Largest-Companies.csv\",encoding='latin1')\n",
    "df.head()"
   ]
  },
  {
   "cell_type": "code",
   "execution_count": 5,
   "id": "58a359ee-ada6-4268-9828-2c3a340b2c22",
   "metadata": {},
   "outputs": [
    {
     "data": {
      "text/plain": [
       "Rank             0\n",
       "Name             0\n",
       "Sales            0\n",
       "Profit           0\n",
       "Assets           0\n",
       "Market Value     0\n",
       "Industry         2\n",
       "Founded          2\n",
       "Headquarters    10\n",
       "Country          0\n",
       "CEO             31\n",
       "Employees       58\n",
       "dtype: int64"
      ]
     },
     "execution_count": 5,
     "metadata": {},
     "output_type": "execute_result"
    }
   ],
   "source": [
    "df.isna().sum()"
   ]
  },
  {
   "cell_type": "code",
   "execution_count": 6,
   "id": "eba220d8-9179-4ead-a775-6171c30d59fa",
   "metadata": {},
   "outputs": [
    {
     "data": {
      "text/html": [
       "<div>\n",
       "<style scoped>\n",
       "    .dataframe tbody tr th:only-of-type {\n",
       "        vertical-align: middle;\n",
       "    }\n",
       "\n",
       "    .dataframe tbody tr th {\n",
       "        vertical-align: top;\n",
       "    }\n",
       "\n",
       "    .dataframe thead th {\n",
       "        text-align: right;\n",
       "    }\n",
       "</style>\n",
       "<table border=\"1\" class=\"dataframe\">\n",
       "  <thead>\n",
       "    <tr style=\"text-align: right;\">\n",
       "      <th></th>\n",
       "      <th>Rank</th>\n",
       "      <th>Name</th>\n",
       "      <th>Sales</th>\n",
       "      <th>Profit</th>\n",
       "      <th>Assets</th>\n",
       "      <th>Market Value</th>\n",
       "      <th>Industry</th>\n",
       "      <th>Founded</th>\n",
       "      <th>Headquarters</th>\n",
       "      <th>Country</th>\n",
       "      <th>CEO</th>\n",
       "      <th>Employees</th>\n",
       "    </tr>\n",
       "  </thead>\n",
       "  <tbody>\n",
       "    <tr>\n",
       "      <th>0</th>\n",
       "      <td>1</td>\n",
       "      <td>JPMorgan Chase</td>\n",
       "      <td>252.9</td>\n",
       "      <td>50.00</td>\n",
       "      <td>4090.7</td>\n",
       "      <td>588.1</td>\n",
       "      <td>Banking and Financial Services</td>\n",
       "      <td>2000.0</td>\n",
       "      <td>New York- New York</td>\n",
       "      <td>United States</td>\n",
       "      <td>Jamie Dimon</td>\n",
       "      <td>186751.0</td>\n",
       "    </tr>\n",
       "    <tr>\n",
       "      <th>1</th>\n",
       "      <td>2</td>\n",
       "      <td>Berkshire Hathaway</td>\n",
       "      <td>369.0</td>\n",
       "      <td>73.40</td>\n",
       "      <td>1070.0</td>\n",
       "      <td>899.1</td>\n",
       "      <td>Conglomerate</td>\n",
       "      <td>1839.0</td>\n",
       "      <td>Omaha- Nebraska</td>\n",
       "      <td>United States</td>\n",
       "      <td>Warren Edward Buffett</td>\n",
       "      <td>396500.0</td>\n",
       "    </tr>\n",
       "    <tr>\n",
       "      <th>2</th>\n",
       "      <td>3</td>\n",
       "      <td>Saudi Arabian Oil Company (Saudi Aramco)</td>\n",
       "      <td>489.1</td>\n",
       "      <td>116.90</td>\n",
       "      <td>661.5</td>\n",
       "      <td>1919.3</td>\n",
       "      <td>Construction- Chemicals- Raw Materials</td>\n",
       "      <td>1933.0</td>\n",
       "      <td>Dhahran</td>\n",
       "      <td>Saudi Arabia</td>\n",
       "      <td>Amin bin Hasan Al-Nasser</td>\n",
       "      <td>70000.0</td>\n",
       "    </tr>\n",
       "    <tr>\n",
       "      <th>3</th>\n",
       "      <td>4</td>\n",
       "      <td>ICBC</td>\n",
       "      <td>223.8</td>\n",
       "      <td>50.40</td>\n",
       "      <td>6586.0</td>\n",
       "      <td>215.2</td>\n",
       "      <td>Banking and Financial Services</td>\n",
       "      <td>1984.0</td>\n",
       "      <td>Beijing</td>\n",
       "      <td>China</td>\n",
       "      <td>Wang Jingwu</td>\n",
       "      <td>427587.0</td>\n",
       "    </tr>\n",
       "    <tr>\n",
       "      <th>4</th>\n",
       "      <td>5</td>\n",
       "      <td>Bank of America</td>\n",
       "      <td>183.3</td>\n",
       "      <td>25.00</td>\n",
       "      <td>3273.8</td>\n",
       "      <td>307.3</td>\n",
       "      <td>Banking and Financial Services</td>\n",
       "      <td>1904.0</td>\n",
       "      <td>Charlotte- North Carolina</td>\n",
       "      <td>United States</td>\n",
       "      <td>Brian T. Moynihan</td>\n",
       "      <td>166140.0</td>\n",
       "    </tr>\n",
       "    <tr>\n",
       "      <th>...</th>\n",
       "      <td>...</td>\n",
       "      <td>...</td>\n",
       "      <td>...</td>\n",
       "      <td>...</td>\n",
       "      <td>...</td>\n",
       "      <td>...</td>\n",
       "      <td>...</td>\n",
       "      <td>...</td>\n",
       "      <td>...</td>\n",
       "      <td>...</td>\n",
       "      <td>...</td>\n",
       "      <td>...</td>\n",
       "    </tr>\n",
       "    <tr>\n",
       "      <th>1996</th>\n",
       "      <td>1997</td>\n",
       "      <td>Sichuan Chuantou Energy</td>\n",
       "      <td>0.2</td>\n",
       "      <td>0.63</td>\n",
       "      <td>8.6</td>\n",
       "      <td>11.3</td>\n",
       "      <td>Utilities</td>\n",
       "      <td>2001.0</td>\n",
       "      <td>Chengdu</td>\n",
       "      <td>China</td>\n",
       "      <td>Hong Yang</td>\n",
       "      <td>1453.0</td>\n",
       "    </tr>\n",
       "    <tr>\n",
       "      <th>1997</th>\n",
       "      <td>1998</td>\n",
       "      <td>Vietnam Prosperity Joint-sock Commercial Bank</td>\n",
       "      <td>3.9</td>\n",
       "      <td>0.46</td>\n",
       "      <td>33.2</td>\n",
       "      <td>6.0</td>\n",
       "      <td>Banking</td>\n",
       "      <td>1993.0</td>\n",
       "      <td>Ha Noi</td>\n",
       "      <td>Vietnam</td>\n",
       "      <td>Vinh Duc Nguyen</td>\n",
       "      <td>24973.0</td>\n",
       "    </tr>\n",
       "    <tr>\n",
       "      <th>1998</th>\n",
       "      <td>1999</td>\n",
       "      <td>Adient</td>\n",
       "      <td>15.2</td>\n",
       "      <td>0.16</td>\n",
       "      <td>9.3</td>\n",
       "      <td>2.6</td>\n",
       "      <td>Consumer Durables</td>\n",
       "      <td>1985.0</td>\n",
       "      <td>Plymouth- Michigan</td>\n",
       "      <td>United States</td>\n",
       "      <td>Jerome Dorlack MBA</td>\n",
       "      <td>70000.0</td>\n",
       "    </tr>\n",
       "    <tr>\n",
       "      <th>1999</th>\n",
       "      <td>2000</td>\n",
       "      <td>CapitaLand Investment</td>\n",
       "      <td>2.2</td>\n",
       "      <td>0.13</td>\n",
       "      <td>25.9</td>\n",
       "      <td>10.0</td>\n",
       "      <td>Diversified Financials</td>\n",
       "      <td>2000.0</td>\n",
       "      <td>Singapore</td>\n",
       "      <td>Singapore</td>\n",
       "      <td>Chee Koon Lee</td>\n",
       "      <td>45000.0</td>\n",
       "    </tr>\n",
       "    <tr>\n",
       "      <th>2000</th>\n",
       "      <td>2001</td>\n",
       "      <td>Shanxi Lu'an Environmental</td>\n",
       "      <td>5.1</td>\n",
       "      <td>0.81</td>\n",
       "      <td>11.6</td>\n",
       "      <td>9.0</td>\n",
       "      <td>Materials</td>\n",
       "      <td>2001.0</td>\n",
       "      <td>Changzhi</td>\n",
       "      <td>China</td>\n",
       "      <td>Hong Miao Shi</td>\n",
       "      <td>34383.0</td>\n",
       "    </tr>\n",
       "  </tbody>\n",
       "</table>\n",
       "<p>1906 rows × 12 columns</p>\n",
       "</div>"
      ],
      "text/plain": [
       "      Rank                                           Name  Sales  Profit  \\\n",
       "0        1                                 JPMorgan Chase  252.9   50.00   \n",
       "1        2                             Berkshire Hathaway  369.0   73.40   \n",
       "2        3       Saudi Arabian Oil Company (Saudi Aramco)  489.1  116.90   \n",
       "3        4                                           ICBC  223.8   50.40   \n",
       "4        5                                Bank of America  183.3   25.00   \n",
       "...    ...                                            ...    ...     ...   \n",
       "1996  1997                        Sichuan Chuantou Energy    0.2    0.63   \n",
       "1997  1998  Vietnam Prosperity Joint-sock Commercial Bank    3.9    0.46   \n",
       "1998  1999                                         Adient   15.2    0.16   \n",
       "1999  2000                          CapitaLand Investment    2.2    0.13   \n",
       "2000  2001                     Shanxi Lu'an Environmental    5.1    0.81   \n",
       "\n",
       "      Assets  Market Value                                Industry  Founded  \\\n",
       "0     4090.7         588.1          Banking and Financial Services   2000.0   \n",
       "1     1070.0         899.1                            Conglomerate   1839.0   \n",
       "2      661.5        1919.3  Construction- Chemicals- Raw Materials   1933.0   \n",
       "3     6586.0         215.2          Banking and Financial Services   1984.0   \n",
       "4     3273.8         307.3          Banking and Financial Services   1904.0   \n",
       "...      ...           ...                                     ...      ...   \n",
       "1996     8.6          11.3                               Utilities   2001.0   \n",
       "1997    33.2           6.0                                 Banking   1993.0   \n",
       "1998     9.3           2.6                       Consumer Durables   1985.0   \n",
       "1999    25.9          10.0                  Diversified Financials   2000.0   \n",
       "2000    11.6           9.0                               Materials   2001.0   \n",
       "\n",
       "                   Headquarters        Country                       CEO  \\\n",
       "0            New York- New York  United States               Jamie Dimon   \n",
       "1               Omaha- Nebraska  United States     Warren Edward Buffett   \n",
       "2                       Dhahran   Saudi Arabia  Amin bin Hasan Al-Nasser   \n",
       "3                       Beijing          China               Wang Jingwu   \n",
       "4     Charlotte- North Carolina  United States         Brian T. Moynihan   \n",
       "...                         ...            ...                       ...   \n",
       "1996                    Chengdu          China                 Hong Yang   \n",
       "1997                     Ha Noi        Vietnam           Vinh Duc Nguyen   \n",
       "1998         Plymouth- Michigan  United States        Jerome Dorlack MBA   \n",
       "1999                  Singapore      Singapore             Chee Koon Lee   \n",
       "2000                   Changzhi          China             Hong Miao Shi   \n",
       "\n",
       "      Employees  \n",
       "0      186751.0  \n",
       "1      396500.0  \n",
       "2       70000.0  \n",
       "3      427587.0  \n",
       "4      166140.0  \n",
       "...         ...  \n",
       "1996     1453.0  \n",
       "1997    24973.0  \n",
       "1998    70000.0  \n",
       "1999    45000.0  \n",
       "2000    34383.0  \n",
       "\n",
       "[1906 rows x 12 columns]"
      ]
     },
     "execution_count": 6,
     "metadata": {},
     "output_type": "execute_result"
    }
   ],
   "source": [
    "df.dropna()"
   ]
  },
  {
   "cell_type": "code",
   "execution_count": 10,
   "id": "d9b819fc-42b0-414e-a354-7616d6d82dd7",
   "metadata": {},
   "outputs": [],
   "source": [
    "df.replace([\"\", \"N/A\", \"null\"], pd.NA, inplace=True)\n",
    "df.dropna(inplace=True)"
   ]
  },
  {
   "cell_type": "code",
   "execution_count": 11,
   "id": "2a120f0b-7bae-4ae6-b23f-a14a598bc513",
   "metadata": {},
   "outputs": [
    {
     "data": {
      "text/plain": [
       "Rank            0\n",
       "Name            0\n",
       "Sales           0\n",
       "Profit          0\n",
       "Assets          0\n",
       "Market Value    0\n",
       "Industry        0\n",
       "Founded         0\n",
       "Headquarters    0\n",
       "Country         0\n",
       "CEO             0\n",
       "Employees       0\n",
       "dtype: int64"
      ]
     },
     "execution_count": 11,
     "metadata": {},
     "output_type": "execute_result"
    }
   ],
   "source": [
    "df.isna().sum()"
   ]
  },
  {
   "cell_type": "code",
   "execution_count": 12,
   "id": "b088f1b6-de03-4f03-bfb7-623b7e674ea3",
   "metadata": {},
   "outputs": [
    {
     "name": "stdout",
     "output_type": "stream",
     "text": [
      "<class 'pandas.core.frame.DataFrame'>\n",
      "Index: 1906 entries, 0 to 2000\n",
      "Data columns (total 12 columns):\n",
      " #   Column        Non-Null Count  Dtype  \n",
      "---  ------        --------------  -----  \n",
      " 0   Rank          1906 non-null   int64  \n",
      " 1   Name          1906 non-null   object \n",
      " 2   Sales         1906 non-null   float64\n",
      " 3   Profit        1906 non-null   float64\n",
      " 4   Assets        1906 non-null   float64\n",
      " 5   Market Value  1906 non-null   float64\n",
      " 6   Industry      1906 non-null   object \n",
      " 7   Founded       1906 non-null   float64\n",
      " 8   Headquarters  1906 non-null   object \n",
      " 9   Country       1906 non-null   object \n",
      " 10  CEO           1906 non-null   object \n",
      " 11  Employees     1906 non-null   float64\n",
      "dtypes: float64(6), int64(1), object(5)\n",
      "memory usage: 193.6+ KB\n"
     ]
    }
   ],
   "source": [
    "df.info()"
   ]
  },
  {
   "cell_type": "code",
   "execution_count": 14,
   "id": "704ba048-f07f-44de-8e6b-9ec9bc1bd437",
   "metadata": {},
   "outputs": [
    {
     "data": {
      "text/plain": [
       "<Axes: >"
      ]
     },
     "execution_count": 14,
     "metadata": {},
     "output_type": "execute_result"
    },
    {
     "data": {
      "image/png": "[encoded data removed]",
      "text/plain": [
       "<Figure size 640x480 with 1 Axes>"
      ]
     },
     "metadata": {},
     "output_type": "display_data"
    }
   ],
   "source": [
    "import seaborn as sns\n",
    "\n",
    "sns.boxplot(data = df)"
   ]
  },
  {
   "cell_type": "code",
   "execution_count": 15,
   "id": "32caf5c3-e2ad-4fb6-a6e2-dd6b13f502c6",
   "metadata": {},
   "outputs": [],
   "source": [
    "for i in df:\n",
    "    if df[i].dtype in (\"float64\",\"int64\"):\n",
    "        q1 = df[i].quantile(0.25)\n",
    "        q3 = df[i].quantile(0.75)\n",
    "        iqr = q3 - q1\n",
    "        ul = q3 + 1.5*iqr\n",
    "        ll = q1 - 1.5*iqr\n",
    "        df[i].clip(upper = ul, lower = ll, inplace = True)"
   ]
  },
  {
   "cell_type": "code",
   "execution_count": 16,
   "id": "24113e96-571e-44b0-b47f-6e2a4f1a6956",
   "metadata": {},
   "outputs": [
    {
     "data": {
      "text/plain": [
       "<Axes: >"
      ]
     },
     "execution_count": 16,
     "metadata": {},
     "output_type": "execute_result"
    },
    {
     "data": {
      "image/png": "[encoded data removed]",
      "text/plain": [
       "<Figure size 640x480 with 1 Axes>"
      ]
     },
     "metadata": {},
     "output_type": "display_data"
    }
   ],
   "source": [
    "sns.boxplot(data = df)"
   ]
  },
  {
   "cell_type": "code",
   "execution_count": 19,
   "id": "279db8a5-b986-4364-a403-da3c8078b131",
   "metadata": {},
   "outputs": [
    {
     "data": {
      "text/html": [
       "<div>\n",
       "<style scoped>\n",
       "    .dataframe tbody tr th:only-of-type {\n",
       "        vertical-align: middle;\n",
       "    }\n",
       "\n",
       "    .dataframe tbody tr th {\n",
       "        vertical-align: top;\n",
       "    }\n",
       "\n",
       "    .dataframe thead th {\n",
       "        text-align: right;\n",
       "    }\n",
       "</style>\n",
       "<table border=\"1\" class=\"dataframe\">\n",
       "  <thead>\n",
       "    <tr style=\"text-align: right;\">\n",
       "      <th></th>\n",
       "      <th>Rank</th>\n",
       "      <th>Sales</th>\n",
       "      <th>Profit</th>\n",
       "      <th>Assets</th>\n",
       "      <th>Market Value</th>\n",
       "      <th>Founded</th>\n",
       "      <th>Employees</th>\n",
       "    </tr>\n",
       "  </thead>\n",
       "  <tbody>\n",
       "    <tr>\n",
       "      <th>0</th>\n",
       "      <td>1</td>\n",
       "      <td>55.1</td>\n",
       "      <td>4.735</td>\n",
       "      <td>173.25</td>\n",
       "      <td>85.05</td>\n",
       "      <td>2000.0</td>\n",
       "      <td>118954.875</td>\n",
       "    </tr>\n",
       "    <tr>\n",
       "      <th>1</th>\n",
       "      <td>2</td>\n",
       "      <td>55.1</td>\n",
       "      <td>4.735</td>\n",
       "      <td>173.25</td>\n",
       "      <td>85.05</td>\n",
       "      <td>1839.0</td>\n",
       "      <td>118954.875</td>\n",
       "    </tr>\n",
       "    <tr>\n",
       "      <th>2</th>\n",
       "      <td>3</td>\n",
       "      <td>55.1</td>\n",
       "      <td>4.735</td>\n",
       "      <td>173.25</td>\n",
       "      <td>85.05</td>\n",
       "      <td>1933.0</td>\n",
       "      <td>70000.000</td>\n",
       "    </tr>\n",
       "    <tr>\n",
       "      <th>3</th>\n",
       "      <td>4</td>\n",
       "      <td>55.1</td>\n",
       "      <td>4.735</td>\n",
       "      <td>173.25</td>\n",
       "      <td>85.05</td>\n",
       "      <td>1984.0</td>\n",
       "      <td>118954.875</td>\n",
       "    </tr>\n",
       "    <tr>\n",
       "      <th>4</th>\n",
       "      <td>5</td>\n",
       "      <td>55.1</td>\n",
       "      <td>4.735</td>\n",
       "      <td>173.25</td>\n",
       "      <td>85.05</td>\n",
       "      <td>1904.0</td>\n",
       "      <td>118954.875</td>\n",
       "    </tr>\n",
       "    <tr>\n",
       "      <th>...</th>\n",
       "      <td>...</td>\n",
       "      <td>...</td>\n",
       "      <td>...</td>\n",
       "      <td>...</td>\n",
       "      <td>...</td>\n",
       "      <td>...</td>\n",
       "      <td>...</td>\n",
       "    </tr>\n",
       "    <tr>\n",
       "      <th>1996</th>\n",
       "      <td>1997</td>\n",
       "      <td>0.2</td>\n",
       "      <td>0.630</td>\n",
       "      <td>8.60</td>\n",
       "      <td>11.30</td>\n",
       "      <td>2001.0</td>\n",
       "      <td>1453.000</td>\n",
       "    </tr>\n",
       "    <tr>\n",
       "      <th>1997</th>\n",
       "      <td>1998</td>\n",
       "      <td>3.9</td>\n",
       "      <td>0.460</td>\n",
       "      <td>33.20</td>\n",
       "      <td>6.00</td>\n",
       "      <td>1993.0</td>\n",
       "      <td>24973.000</td>\n",
       "    </tr>\n",
       "    <tr>\n",
       "      <th>1998</th>\n",
       "      <td>1999</td>\n",
       "      <td>15.2</td>\n",
       "      <td>0.160</td>\n",
       "      <td>9.30</td>\n",
       "      <td>2.60</td>\n",
       "      <td>1985.0</td>\n",
       "      <td>70000.000</td>\n",
       "    </tr>\n",
       "    <tr>\n",
       "      <th>1999</th>\n",
       "      <td>2000</td>\n",
       "      <td>2.2</td>\n",
       "      <td>0.130</td>\n",
       "      <td>25.90</td>\n",
       "      <td>10.00</td>\n",
       "      <td>2000.0</td>\n",
       "      <td>45000.000</td>\n",
       "    </tr>\n",
       "    <tr>\n",
       "      <th>2000</th>\n",
       "      <td>2001</td>\n",
       "      <td>5.1</td>\n",
       "      <td>0.810</td>\n",
       "      <td>11.60</td>\n",
       "      <td>9.00</td>\n",
       "      <td>2001.0</td>\n",
       "      <td>34383.000</td>\n",
       "    </tr>\n",
       "  </tbody>\n",
       "</table>\n",
       "<p>1906 rows × 7 columns</p>\n",
       "</div>"
      ],
      "text/plain": [
       "      Rank  Sales  Profit  Assets  Market Value  Founded   Employees\n",
       "0        1   55.1   4.735  173.25         85.05   2000.0  118954.875\n",
       "1        2   55.1   4.735  173.25         85.05   1839.0  118954.875\n",
       "2        3   55.1   4.735  173.25         85.05   1933.0   70000.000\n",
       "3        4   55.1   4.735  173.25         85.05   1984.0  118954.875\n",
       "4        5   55.1   4.735  173.25         85.05   1904.0  118954.875\n",
       "...    ...    ...     ...     ...           ...      ...         ...\n",
       "1996  1997    0.2   0.630    8.60         11.30   2001.0    1453.000\n",
       "1997  1998    3.9   0.460   33.20          6.00   1993.0   24973.000\n",
       "1998  1999   15.2   0.160    9.30          2.60   1985.0   70000.000\n",
       "1999  2000    2.2   0.130   25.90         10.00   2000.0   45000.000\n",
       "2000  2001    5.1   0.810   11.60          9.00   2001.0   34383.000\n",
       "\n",
       "[1906 rows x 7 columns]"
      ]
     },
     "execution_count": 19,
     "metadata": {},
     "output_type": "execute_result"
    }
   ],
   "source": [
    "a = df.drop(['Name','Industry','Headquarters','Country','CEO'],axis = 1)\n",
    "a"
   ]
  },
  {
   "cell_type": "code",
   "execution_count": 20,
   "id": "a6f4b4fd-be0a-4658-aec4-821070c70cfd",
   "metadata": {},
   "outputs": [],
   "source": [
    "x = a.drop('Sales', axis =1)\n",
    "y = a[['Sales']]"
   ]
  },
  {
   "cell_type": "code",
   "execution_count": 21,
   "id": "12c2c0e8-38bd-49bc-8be6-f7d43e792ddb",
   "metadata": {},
   "outputs": [],
   "source": [
    "from sklearn.model_selection import train_test_split"
   ]
  },
  {
   "cell_type": "code",
   "execution_count": 22,
   "id": "3d5e7da1-9a32-4f46-954a-345ab183d294",
   "metadata": {},
   "outputs": [],
   "source": [
    "x_train, x_test , y_train, y_test = train_test_split(x, y , train_size = 0.7, random_state = 11)"
   ]
  },
  {
   "cell_type": "code",
   "execution_count": 25,
   "id": "3367c3b6-664d-4ea4-b2fb-e98a15a0a10e",
   "metadata": {},
   "outputs": [
    {
     "data": {
      "text/html": [
       "<div>\n",
       "<style scoped>\n",
       "    .dataframe tbody tr th:only-of-type {\n",
       "        vertical-align: middle;\n",
       "    }\n",
       "\n",
       "    .dataframe tbody tr th {\n",
       "        vertical-align: top;\n",
       "    }\n",
       "\n",
       "    .dataframe thead th {\n",
       "        text-align: right;\n",
       "    }\n",
       "</style>\n",
       "<table border=\"1\" class=\"dataframe\">\n",
       "  <thead>\n",
       "    <tr style=\"text-align: right;\">\n",
       "      <th></th>\n",
       "      <th>Rank</th>\n",
       "      <th>Profit</th>\n",
       "      <th>Assets</th>\n",
       "      <th>Market Value</th>\n",
       "      <th>Founded</th>\n",
       "      <th>Employees</th>\n",
       "      <th>Sales</th>\n",
       "    </tr>\n",
       "  </thead>\n",
       "  <tbody>\n",
       "    <tr>\n",
       "      <th>1014</th>\n",
       "      <td>1015</td>\n",
       "      <td>1.10</td>\n",
       "      <td>23.6</td>\n",
       "      <td>9.1</td>\n",
       "      <td>1920.0</td>\n",
       "      <td>46580.0</td>\n",
       "      <td>14.2</td>\n",
       "    </tr>\n",
       "    <tr>\n",
       "      <th>1945</th>\n",
       "      <td>1946</td>\n",
       "      <td>0.70</td>\n",
       "      <td>7.0</td>\n",
       "      <td>10.9</td>\n",
       "      <td>1929.0</td>\n",
       "      <td>5000.0</td>\n",
       "      <td>3.4</td>\n",
       "    </tr>\n",
       "    <tr>\n",
       "      <th>1048</th>\n",
       "      <td>1049</td>\n",
       "      <td>1.30</td>\n",
       "      <td>85.7</td>\n",
       "      <td>8.4</td>\n",
       "      <td>1924.0</td>\n",
       "      <td>8617.0</td>\n",
       "      <td>6.1</td>\n",
       "    </tr>\n",
       "    <tr>\n",
       "      <th>1416</th>\n",
       "      <td>1417</td>\n",
       "      <td>-1.70</td>\n",
       "      <td>26.8</td>\n",
       "      <td>3.8</td>\n",
       "      <td>1985.0</td>\n",
       "      <td>27791.0</td>\n",
       "      <td>16.8</td>\n",
       "    </tr>\n",
       "    <tr>\n",
       "      <th>1422</th>\n",
       "      <td>1423</td>\n",
       "      <td>0.56</td>\n",
       "      <td>86.9</td>\n",
       "      <td>5.2</td>\n",
       "      <td>1996.0</td>\n",
       "      <td>11803.0</td>\n",
       "      <td>3.3</td>\n",
       "    </tr>\n",
       "  </tbody>\n",
       "</table>\n",
       "</div>"
      ],
      "text/plain": [
       "      Rank  Profit  Assets  Market Value  Founded  Employees  Sales\n",
       "1014  1015    1.10    23.6           9.1   1920.0    46580.0   14.2\n",
       "1945  1946    0.70     7.0          10.9   1929.0     5000.0    3.4\n",
       "1048  1049    1.30    85.7           8.4   1924.0     8617.0    6.1\n",
       "1416  1417   -1.70    26.8           3.8   1985.0    27791.0   16.8\n",
       "1422  1423    0.56    86.9           5.2   1996.0    11803.0    3.3"
      ]
     },
     "execution_count": 25,
     "metadata": {},
     "output_type": "execute_result"
    }
   ],
   "source": [
    "train = pd.concat([x_train, y_train], axis = 1)\n",
    "train.head()"
   ]
  },
  {
   "cell_type": "code",
   "execution_count": 27,
   "id": "9e8f00c6-19e0-42fe-934a-b0f04eed939c",
   "metadata": {},
   "outputs": [],
   "source": [
    "correlation = train.corr()"
   ]
  },
  {
   "cell_type": "code",
   "execution_count": 32,
   "id": "62d33d41-dee9-49b6-a16d-9e8818e7a61e",
   "metadata": {},
   "outputs": [
    {
     "name": "stderr",
     "output_type": "stream",
     "text": [
      "C:\\Users\\rajat\\AppData\\Local\\Temp\\ipykernel_10796\\1452654819.py:1: FutureWarning: Styler.applymap has been deprecated. Use Styler.map instead.\n",
      "  correlation.style.applymap(lambda x : 'background-color : yellow' if x > 0.70  else '')\n"
     ]
    },
    {
     "data": {
      "text/html": [
       "<style type=\"text/css\">\n",
       "#T_43bf5_row0_col0, #T_43bf5_row1_col1, #T_43bf5_row1_col3, #T_43bf5_row2_col2, #T_43bf5_row3_col1, #T_43bf5_row3_col3, #T_43bf5_row4_col4, #T_43bf5_row5_col5, #T_43bf5_row6_col6 {\n",
       "  background-color: yellow;\n",
       "}\n",
       "</style>\n",
       "<table id=\"T_43bf5\">\n",
       "  <thead>\n",
       "    <tr>\n",
       "      <th class=\"blank level0\" >&nbsp;</th>\n",
       "      <th id=\"T_43bf5_level0_col0\" class=\"col_heading level0 col0\" >Rank</th>\n",
       "      <th id=\"T_43bf5_level0_col1\" class=\"col_heading level0 col1\" >Profit</th>\n",
       "      <th id=\"T_43bf5_level0_col2\" class=\"col_heading level0 col2\" >Assets</th>\n",
       "      <th id=\"T_43bf5_level0_col3\" class=\"col_heading level0 col3\" >Market Value</th>\n",
       "      <th id=\"T_43bf5_level0_col4\" class=\"col_heading level0 col4\" >Founded</th>\n",
       "      <th id=\"T_43bf5_level0_col5\" class=\"col_heading level0 col5\" >Employees</th>\n",
       "      <th id=\"T_43bf5_level0_col6\" class=\"col_heading level0 col6\" >Sales</th>\n",
       "    </tr>\n",
       "  </thead>\n",
       "  <tbody>\n",
       "    <tr>\n",
       "      <th id=\"T_43bf5_level0_row0\" class=\"row_heading level0 row0\" >Rank</th>\n",
       "      <td id=\"T_43bf5_row0_col0\" class=\"data row0 col0\" >1.000000</td>\n",
       "      <td id=\"T_43bf5_row0_col1\" class=\"data row0 col1\" >-0.775896</td>\n",
       "      <td id=\"T_43bf5_row0_col2\" class=\"data row0 col2\" >-0.621364</td>\n",
       "      <td id=\"T_43bf5_row0_col3\" class=\"data row0 col3\" >-0.698489</td>\n",
       "      <td id=\"T_43bf5_row0_col4\" class=\"data row0 col4\" >0.123055</td>\n",
       "      <td id=\"T_43bf5_row0_col5\" class=\"data row0 col5\" >-0.480687</td>\n",
       "      <td id=\"T_43bf5_row0_col6\" class=\"data row0 col6\" >-0.706436</td>\n",
       "    </tr>\n",
       "    <tr>\n",
       "      <th id=\"T_43bf5_level0_row1\" class=\"row_heading level0 row1\" >Profit</th>\n",
       "      <td id=\"T_43bf5_row1_col0\" class=\"data row1 col0\" >-0.775896</td>\n",
       "      <td id=\"T_43bf5_row1_col1\" class=\"data row1 col1\" >1.000000</td>\n",
       "      <td id=\"T_43bf5_row1_col2\" class=\"data row1 col2\" >0.530199</td>\n",
       "      <td id=\"T_43bf5_row1_col3\" class=\"data row1 col3\" >0.701531</td>\n",
       "      <td id=\"T_43bf5_row1_col4\" class=\"data row1 col4\" >-0.097626</td>\n",
       "      <td id=\"T_43bf5_row1_col5\" class=\"data row1 col5\" >0.363684</td>\n",
       "      <td id=\"T_43bf5_row1_col6\" class=\"data row1 col6\" >0.587897</td>\n",
       "    </tr>\n",
       "    <tr>\n",
       "      <th id=\"T_43bf5_level0_row2\" class=\"row_heading level0 row2\" >Assets</th>\n",
       "      <td id=\"T_43bf5_row2_col0\" class=\"data row2 col0\" >-0.621364</td>\n",
       "      <td id=\"T_43bf5_row2_col1\" class=\"data row2 col1\" >0.530199</td>\n",
       "      <td id=\"T_43bf5_row2_col2\" class=\"data row2 col2\" >1.000000</td>\n",
       "      <td id=\"T_43bf5_row2_col3\" class=\"data row2 col3\" >0.316626</td>\n",
       "      <td id=\"T_43bf5_row2_col4\" class=\"data row2 col4\" >-0.086002</td>\n",
       "      <td id=\"T_43bf5_row2_col5\" class=\"data row2 col5\" >0.253261</td>\n",
       "      <td id=\"T_43bf5_row2_col6\" class=\"data row2 col6\" >0.495208</td>\n",
       "    </tr>\n",
       "    <tr>\n",
       "      <th id=\"T_43bf5_level0_row3\" class=\"row_heading level0 row3\" >Market Value</th>\n",
       "      <td id=\"T_43bf5_row3_col0\" class=\"data row3 col0\" >-0.698489</td>\n",
       "      <td id=\"T_43bf5_row3_col1\" class=\"data row3 col1\" >0.701531</td>\n",
       "      <td id=\"T_43bf5_row3_col2\" class=\"data row3 col2\" >0.316626</td>\n",
       "      <td id=\"T_43bf5_row3_col3\" class=\"data row3 col3\" >1.000000</td>\n",
       "      <td id=\"T_43bf5_row3_col4\" class=\"data row3 col4\" >-0.058928</td>\n",
       "      <td id=\"T_43bf5_row3_col5\" class=\"data row3 col5\" >0.373779</td>\n",
       "      <td id=\"T_43bf5_row3_col6\" class=\"data row3 col6\" >0.475651</td>\n",
       "    </tr>\n",
       "    <tr>\n",
       "      <th id=\"T_43bf5_level0_row4\" class=\"row_heading level0 row4\" >Founded</th>\n",
       "      <td id=\"T_43bf5_row4_col0\" class=\"data row4 col0\" >0.123055</td>\n",
       "      <td id=\"T_43bf5_row4_col1\" class=\"data row4 col1\" >-0.097626</td>\n",
       "      <td id=\"T_43bf5_row4_col2\" class=\"data row4 col2\" >-0.086002</td>\n",
       "      <td id=\"T_43bf5_row4_col3\" class=\"data row4 col3\" >-0.058928</td>\n",
       "      <td id=\"T_43bf5_row4_col4\" class=\"data row4 col4\" >1.000000</td>\n",
       "      <td id=\"T_43bf5_row4_col5\" class=\"data row4 col5\" >-0.105814</td>\n",
       "      <td id=\"T_43bf5_row4_col6\" class=\"data row4 col6\" >-0.129901</td>\n",
       "    </tr>\n",
       "    <tr>\n",
       "      <th id=\"T_43bf5_level0_row5\" class=\"row_heading level0 row5\" >Employees</th>\n",
       "      <td id=\"T_43bf5_row5_col0\" class=\"data row5 col0\" >-0.480687</td>\n",
       "      <td id=\"T_43bf5_row5_col1\" class=\"data row5 col1\" >0.363684</td>\n",
       "      <td id=\"T_43bf5_row5_col2\" class=\"data row5 col2\" >0.253261</td>\n",
       "      <td id=\"T_43bf5_row5_col3\" class=\"data row5 col3\" >0.373779</td>\n",
       "      <td id=\"T_43bf5_row5_col4\" class=\"data row5 col4\" >-0.105814</td>\n",
       "      <td id=\"T_43bf5_row5_col5\" class=\"data row5 col5\" >1.000000</td>\n",
       "      <td id=\"T_43bf5_row5_col6\" class=\"data row5 col6\" >0.651405</td>\n",
       "    </tr>\n",
       "    <tr>\n",
       "      <th id=\"T_43bf5_level0_row6\" class=\"row_heading level0 row6\" >Sales</th>\n",
       "      <td id=\"T_43bf5_row6_col0\" class=\"data row6 col0\" >-0.706436</td>\n",
       "      <td id=\"T_43bf5_row6_col1\" class=\"data row6 col1\" >0.587897</td>\n",
       "      <td id=\"T_43bf5_row6_col2\" class=\"data row6 col2\" >0.495208</td>\n",
       "      <td id=\"T_43bf5_row6_col3\" class=\"data row6 col3\" >0.475651</td>\n",
       "      <td id=\"T_43bf5_row6_col4\" class=\"data row6 col4\" >-0.129901</td>\n",
       "      <td id=\"T_43bf5_row6_col5\" class=\"data row6 col5\" >0.651405</td>\n",
       "      <td id=\"T_43bf5_row6_col6\" class=\"data row6 col6\" >1.000000</td>\n",
       "    </tr>\n",
       "  </tbody>\n",
       "</table>\n"
      ],
      "text/plain": [
       "<pandas.io.formats.style.Styler at 0x18202b3d650>"
      ]
     },
     "execution_count": 32,
     "metadata": {},
     "output_type": "execute_result"
    }
   ],
   "source": [
    "correlation.style.applymap(lambda x : 'background-color : yellow' if x > 0.70  else '')"
   ]
  },
  {
   "cell_type": "code",
   "execution_count": 94,
   "id": "b7f46a69-aa3f-4a8e-872c-dba25b7a5b73",
   "metadata": {},
   "outputs": [
    {
     "data": {
      "text/plain": [
       "<Axes: >"
      ]
     },
     "execution_count": 94,
     "metadata": {},
     "output_type": "execute_result"
    },
    {
     "data": {
      "image/png": "[encoded data removed]",
      "text/plain": [
       "<Figure size 640x480 with 2 Axes>"
      ]
     },
     "metadata": {},
     "output_type": "display_data"
    }
   ],
   "source": [
    "sns.heatmap(correlation, annot = True)"
   ]
  },
  {
   "cell_type": "code",
   "execution_count": null,
   "id": "4e072048-3543-49b4-8c73-f638aef67a92",
   "metadata": {},
   "outputs": [],
   "source": []
  },
  {
   "cell_type": "markdown",
   "id": "539e0942-2520-43db-8b53-325d16b990aa",
   "metadata": {},
   "source": [
    "# VIF Varience Inflation Factor¶"
   ]
  },
  {
   "cell_type": "code",
   "execution_count": 35,
   "id": "f7b8cfa0-0513-4858-b1ac-e3bac41d775b",
   "metadata": {},
   "outputs": [],
   "source": [
    "from statsmodels.stats.outliers_influence import variance_inflation_factor"
   ]
  },
  {
   "cell_type": "code",
   "execution_count": 36,
   "id": "02024c6a-8c38-42c1-aa15-d2fecc909242",
   "metadata": {},
   "outputs": [],
   "source": [
    "x1 = a.drop(['Sales'],axis = 1)\n",
    "series_before = pd.Series([variance_inflation_factor(x1.values,i) for i in range(x1.shape[1])], index = x1.columns)   # i = 0,1,2,3....8"
   ]
  },
  {
   "cell_type": "code",
   "execution_count": 37,
   "id": "dce4d140-fea1-4917-a952-0d54738e99f6",
   "metadata": {},
   "outputs": [
    {
     "data": {
      "text/plain": [
       "Rank            15.546518\n",
       "Profit           5.531259\n",
       "Assets           3.524740\n",
       "Market Value     4.982324\n",
       "Founded         34.289473\n",
       "Employees        2.609818\n",
       "dtype: float64"
      ]
     },
     "execution_count": 37,
     "metadata": {},
     "output_type": "execute_result"
    }
   ],
   "source": [
    "series_before"
   ]
  },
  {
   "cell_type": "markdown",
   "id": "774c729e-0c94-47bd-b05c-9d37cd9f3a3b",
   "metadata": {},
   "source": [
    "## Multi- colinearity is Present in Dataset"
   ]
  },
  {
   "cell_type": "markdown",
   "id": "2d6a1cfa-1c4b-4d66-828c-ff7aa1afe46f",
   "metadata": {},
   "source": [
    "# Model Builiding"
   ]
  },
  {
   "cell_type": "code",
   "execution_count": 40,
   "id": "67478f4a-327b-4747-85e4-7450aced20b0",
   "metadata": {},
   "outputs": [],
   "source": [
    "from sklearn.linear_model import LinearRegression\n",
    "from sklearn.feature_selection import SequentialFeatureSelector as sfs"
   ]
  },
  {
   "cell_type": "code",
   "execution_count": 41,
   "id": "96c2f304-fbb9-4fec-abcd-3ac43d6ff30b",
   "metadata": {},
   "outputs": [],
   "source": [
    "lreg = LinearRegression()"
   ]
  },
  {
   "cell_type": "code",
   "execution_count": 50,
   "id": "b4424c67-c863-4689-ade0-4c0080748271",
   "metadata": {},
   "outputs": [],
   "source": [
    "model = sfs(lreg , n_features_to_select= 4 , direction = 'forward', scoring = 'r2')"
   ]
  },
  {
   "cell_type": "code",
   "execution_count": 51,
   "id": "d3cdb37d-a687-40e2-9e6e-f083d912807b",
   "metadata": {},
   "outputs": [
    {
     "data": {
      "text/html": [
       "<style>#sk-container-id-3 {color: black;background-color: white;}#sk-container-id-3 pre{padding: 0;}#sk-container-id-3 div.sk-toggleable {background-color: white;}#sk-container-id-3 label.sk-toggleable__label {cursor: pointer;display: block;width: 100%;margin-bottom: 0;padding: 0.3em;box-sizing: border-box;text-align: center;}#sk-container-id-3 label.sk-toggleable__label-arrow:before {content: \"▸\";float: left;margin-right: 0.25em;color: #696969;}#sk-container-id-3 label.sk-toggleable__label-arrow:hover:before {color: black;}#sk-container-id-3 div.sk-estimator:hover label.sk-toggleable__label-arrow:before {color: black;}#sk-container-id-3 div.sk-toggleable__content {max-height: 0;max-width: 0;overflow: hidden;text-align: left;background-color: #f0f8ff;}#sk-container-id-3 div.sk-toggleable__content pre {margin: 0.2em;color: black;border-radius: 0.25em;background-color: #f0f8ff;}#sk-container-id-3 input.sk-toggleable__control:checked~div.sk-toggleable__content {max-height: 200px;max-width: 100%;overflow: auto;}#sk-container-id-3 input.sk-toggleable__control:checked~label.sk-toggleable__label-arrow:before {content: \"▾\";}#sk-container-id-3 div.sk-estimator input.sk-toggleable__control:checked~label.sk-toggleable__label {background-color: #d4ebff;}#sk-container-id-3 div.sk-label input.sk-toggleable__control:checked~label.sk-toggleable__label {background-color: #d4ebff;}#sk-container-id-3 input.sk-hidden--visually {border: 0;clip: rect(1px 1px 1px 1px);clip: rect(1px, 1px, 1px, 1px);height: 1px;margin: -1px;overflow: hidden;padding: 0;position: absolute;width: 1px;}#sk-container-id-3 div.sk-estimator {font-family: monospace;background-color: #f0f8ff;border: 1px dotted black;border-radius: 0.25em;box-sizing: border-box;margin-bottom: 0.5em;}#sk-container-id-3 div.sk-estimator:hover {background-color: #d4ebff;}#sk-container-id-3 div.sk-parallel-item::after {content: \"\";width: 100%;border-bottom: 1px solid gray;flex-grow: 1;}#sk-container-id-3 div.sk-label:hover label.sk-toggleable__label {background-color: #d4ebff;}#sk-container-id-3 div.sk-serial::before {content: \"\";position: absolute;border-left: 1px solid gray;box-sizing: border-box;top: 0;bottom: 0;left: 50%;z-index: 0;}#sk-container-id-3 div.sk-serial {display: flex;flex-direction: column;align-items: center;background-color: white;padding-right: 0.2em;padding-left: 0.2em;position: relative;}#sk-container-id-3 div.sk-item {position: relative;z-index: 1;}#sk-container-id-3 div.sk-parallel {display: flex;align-items: stretch;justify-content: center;background-color: white;position: relative;}#sk-container-id-3 div.sk-item::before, #sk-container-id-3 div.sk-parallel-item::before {content: \"\";position: absolute;border-left: 1px solid gray;box-sizing: border-box;top: 0;bottom: 0;left: 50%;z-index: -1;}#sk-container-id-3 div.sk-parallel-item {display: flex;flex-direction: column;z-index: 1;position: relative;background-color: white;}#sk-container-id-3 div.sk-parallel-item:first-child::after {align-self: flex-end;width: 50%;}#sk-container-id-3 div.sk-parallel-item:last-child::after {align-self: flex-start;width: 50%;}#sk-container-id-3 div.sk-parallel-item:only-child::after {width: 0;}#sk-container-id-3 div.sk-dashed-wrapped {border: 1px dashed gray;margin: 0 0.4em 0.5em 0.4em;box-sizing: border-box;padding-bottom: 0.4em;background-color: white;}#sk-container-id-3 div.sk-label label {font-family: monospace;font-weight: bold;display: inline-block;line-height: 1.2em;}#sk-container-id-3 div.sk-label-container {text-align: center;}#sk-container-id-3 div.sk-container {/* jupyter's `normalize.less` sets `[hidden] { display: none; }` but bootstrap.min.css set `[hidden] { display: none !important; }` so we also need the `!important` here to be able to override the default hidden behavior on the sphinx rendered scikit-learn.org. See: https://github.com/scikit-learn/scikit-learn/issues/21755 */display: inline-block !important;position: relative;}#sk-container-id-3 div.sk-text-repr-fallback {display: none;}</style><div id=\"sk-container-id-3\" class=\"sk-top-container\"><div class=\"sk-text-repr-fallback\"><pre>SequentialFeatureSelector(estimator=LinearRegression(), n_features_to_select=4,\n",
       "                          scoring=&#x27;r2&#x27;)</pre><b>In a Jupyter environment, please rerun this cell to show the HTML representation or trust the notebook. <br />On GitHub, the HTML representation is unable to render, please try loading this page with nbviewer.org.</b></div><div class=\"sk-container\" hidden><div class=\"sk-item sk-dashed-wrapped\"><div class=\"sk-label-container\"><div class=\"sk-label sk-toggleable\"><input class=\"sk-toggleable__control sk-hidden--visually\" id=\"sk-estimator-id-7\" type=\"checkbox\" ><label for=\"sk-estimator-id-7\" class=\"sk-toggleable__label sk-toggleable__label-arrow\">SequentialFeatureSelector</label><div class=\"sk-toggleable__content\"><pre>SequentialFeatureSelector(estimator=LinearRegression(), n_features_to_select=4,\n",
       "                          scoring=&#x27;r2&#x27;)</pre></div></div></div><div class=\"sk-parallel\"><div class=\"sk-parallel-item\"><div class=\"sk-item\"><div class=\"sk-label-container\"><div class=\"sk-label sk-toggleable\"><input class=\"sk-toggleable__control sk-hidden--visually\" id=\"sk-estimator-id-8\" type=\"checkbox\" ><label for=\"sk-estimator-id-8\" class=\"sk-toggleable__label sk-toggleable__label-arrow\">estimator: LinearRegression</label><div class=\"sk-toggleable__content\"><pre>LinearRegression()</pre></div></div></div><div class=\"sk-serial\"><div class=\"sk-item\"><div class=\"sk-estimator sk-toggleable\"><input class=\"sk-toggleable__control sk-hidden--visually\" id=\"sk-estimator-id-9\" type=\"checkbox\" ><label for=\"sk-estimator-id-9\" class=\"sk-toggleable__label sk-toggleable__label-arrow\">LinearRegression</label><div class=\"sk-toggleable__content\"><pre>LinearRegression()</pre></div></div></div></div></div></div></div></div></div></div>"
      ],
      "text/plain": [
       "SequentialFeatureSelector(estimator=LinearRegression(), n_features_to_select=4,\n",
       "                          scoring='r2')"
      ]
     },
     "execution_count": 51,
     "metadata": {},
     "output_type": "execute_result"
    }
   ],
   "source": [
    "model.fit(x_train, y_train)"
   ]
  },
  {
   "cell_type": "code",
   "execution_count": 52,
   "id": "56504f00-c5c1-4460-80f1-ba4d374a703a",
   "metadata": {},
   "outputs": [
    {
     "data": {
      "text/plain": [
       "array(['Rank', 'Profit', 'Assets', 'Market Value', 'Founded', 'Employees'],\n",
       "      dtype=object)"
      ]
     },
     "execution_count": 52,
     "metadata": {},
     "output_type": "execute_result"
    }
   ],
   "source": [
    "model.feature_names_in_"
   ]
  },
  {
   "cell_type": "code",
   "execution_count": 53,
   "id": "93aabc37-ffe6-47c5-8fb5-075ee4975e57",
   "metadata": {},
   "outputs": [
    {
     "data": {
      "text/plain": [
       "array(['Rank', 'Profit', 'Assets', 'Employees'], dtype=object)"
      ]
     },
     "execution_count": 53,
     "metadata": {},
     "output_type": "execute_result"
    }
   ],
   "source": [
    "model.get_feature_names_out()"
   ]
  },
  {
   "cell_type": "code",
   "execution_count": null,
   "id": "a087990c-a19b-4c2a-86d3-5451d984e3ec",
   "metadata": {},
   "outputs": [],
   "source": []
  },
  {
   "cell_type": "markdown",
   "id": "285a22c4-8392-4c56-8785-3f21698b6cca",
   "metadata": {},
   "source": [
    "## Method - 2 Sklearn"
   ]
  },
  {
   "cell_type": "code",
   "execution_count": 57,
   "id": "0b776ec1-fce3-4deb-b7a5-4e1356b30f01",
   "metadata": {},
   "outputs": [],
   "source": [
    "from sklearn.linear_model import LinearRegression"
   ]
  },
  {
   "cell_type": "code",
   "execution_count": 59,
   "id": "72464245-449f-46d7-aa4c-c37d943b6b23",
   "metadata": {},
   "outputs": [
    {
     "data": {
      "text/html": [
       "<div>\n",
       "<style scoped>\n",
       "    .dataframe tbody tr th:only-of-type {\n",
       "        vertical-align: middle;\n",
       "    }\n",
       "\n",
       "    .dataframe tbody tr th {\n",
       "        vertical-align: top;\n",
       "    }\n",
       "\n",
       "    .dataframe thead th {\n",
       "        text-align: right;\n",
       "    }\n",
       "</style>\n",
       "<table border=\"1\" class=\"dataframe\">\n",
       "  <thead>\n",
       "    <tr style=\"text-align: right;\">\n",
       "      <th></th>\n",
       "      <th>Rank</th>\n",
       "      <th>Profit</th>\n",
       "      <th>Assets</th>\n",
       "      <th>Employees</th>\n",
       "    </tr>\n",
       "  </thead>\n",
       "  <tbody>\n",
       "    <tr>\n",
       "      <th>1014</th>\n",
       "      <td>1015</td>\n",
       "      <td>1.10</td>\n",
       "      <td>23.6</td>\n",
       "      <td>46580.0</td>\n",
       "    </tr>\n",
       "    <tr>\n",
       "      <th>1945</th>\n",
       "      <td>1946</td>\n",
       "      <td>0.70</td>\n",
       "      <td>7.0</td>\n",
       "      <td>5000.0</td>\n",
       "    </tr>\n",
       "    <tr>\n",
       "      <th>1048</th>\n",
       "      <td>1049</td>\n",
       "      <td>1.30</td>\n",
       "      <td>85.7</td>\n",
       "      <td>8617.0</td>\n",
       "    </tr>\n",
       "    <tr>\n",
       "      <th>1416</th>\n",
       "      <td>1417</td>\n",
       "      <td>-1.70</td>\n",
       "      <td>26.8</td>\n",
       "      <td>27791.0</td>\n",
       "    </tr>\n",
       "    <tr>\n",
       "      <th>1422</th>\n",
       "      <td>1423</td>\n",
       "      <td>0.56</td>\n",
       "      <td>86.9</td>\n",
       "      <td>11803.0</td>\n",
       "    </tr>\n",
       "  </tbody>\n",
       "</table>\n",
       "</div>"
      ],
      "text/plain": [
       "      Rank  Profit  Assets  Employees\n",
       "1014  1015    1.10    23.6    46580.0\n",
       "1945  1946    0.70     7.0     5000.0\n",
       "1048  1049    1.30    85.7     8617.0\n",
       "1416  1417   -1.70    26.8    27791.0\n",
       "1422  1423    0.56    86.9    11803.0"
      ]
     },
     "execution_count": 59,
     "metadata": {},
     "output_type": "execute_result"
    }
   ],
   "source": [
    "x_train = x_train.loc[:,['Rank', 'Profit', 'Assets', 'Employees']]\n",
    "x_train.head()"
   ]
  },
  {
   "cell_type": "code",
   "execution_count": 61,
   "id": "f3521820-dfc9-43bd-9cd2-1e259f5f5d2d",
   "metadata": {},
   "outputs": [
    {
     "data": {
      "text/html": [
       "<div>\n",
       "<style scoped>\n",
       "    .dataframe tbody tr th:only-of-type {\n",
       "        vertical-align: middle;\n",
       "    }\n",
       "\n",
       "    .dataframe tbody tr th {\n",
       "        vertical-align: top;\n",
       "    }\n",
       "\n",
       "    .dataframe thead th {\n",
       "        text-align: right;\n",
       "    }\n",
       "</style>\n",
       "<table border=\"1\" class=\"dataframe\">\n",
       "  <thead>\n",
       "    <tr style=\"text-align: right;\">\n",
       "      <th></th>\n",
       "      <th>Rank</th>\n",
       "      <th>Profit</th>\n",
       "      <th>Assets</th>\n",
       "      <th>Employees</th>\n",
       "      <th>Sales</th>\n",
       "    </tr>\n",
       "  </thead>\n",
       "  <tbody>\n",
       "    <tr>\n",
       "      <th>1014</th>\n",
       "      <td>1015</td>\n",
       "      <td>1.10</td>\n",
       "      <td>23.6</td>\n",
       "      <td>46580.0</td>\n",
       "      <td>14.2</td>\n",
       "    </tr>\n",
       "    <tr>\n",
       "      <th>1945</th>\n",
       "      <td>1946</td>\n",
       "      <td>0.70</td>\n",
       "      <td>7.0</td>\n",
       "      <td>5000.0</td>\n",
       "      <td>3.4</td>\n",
       "    </tr>\n",
       "    <tr>\n",
       "      <th>1048</th>\n",
       "      <td>1049</td>\n",
       "      <td>1.30</td>\n",
       "      <td>85.7</td>\n",
       "      <td>8617.0</td>\n",
       "      <td>6.1</td>\n",
       "    </tr>\n",
       "    <tr>\n",
       "      <th>1416</th>\n",
       "      <td>1417</td>\n",
       "      <td>-1.70</td>\n",
       "      <td>26.8</td>\n",
       "      <td>27791.0</td>\n",
       "      <td>16.8</td>\n",
       "    </tr>\n",
       "    <tr>\n",
       "      <th>1422</th>\n",
       "      <td>1423</td>\n",
       "      <td>0.56</td>\n",
       "      <td>86.9</td>\n",
       "      <td>11803.0</td>\n",
       "      <td>3.3</td>\n",
       "    </tr>\n",
       "  </tbody>\n",
       "</table>\n",
       "</div>"
      ],
      "text/plain": [
       "      Rank  Profit  Assets  Employees  Sales\n",
       "1014  1015    1.10    23.6    46580.0   14.2\n",
       "1945  1946    0.70     7.0     5000.0    3.4\n",
       "1048  1049    1.30    85.7     8617.0    6.1\n",
       "1416  1417   -1.70    26.8    27791.0   16.8\n",
       "1422  1423    0.56    86.9    11803.0    3.3"
      ]
     },
     "execution_count": 61,
     "metadata": {},
     "output_type": "execute_result"
    }
   ],
   "source": [
    "train = pd.concat([x_train, y_train], axis = 1)\n",
    "train.head()"
   ]
  },
  {
   "cell_type": "code",
   "execution_count": 62,
   "id": "21f7d699-0d2b-444a-821e-f0788e255700",
   "metadata": {},
   "outputs": [],
   "source": [
    "model3 = LinearRegression()"
   ]
  },
  {
   "cell_type": "code",
   "execution_count": 63,
   "id": "4cfdcc50-3809-4883-bd27-e8cb05ce7380",
   "metadata": {},
   "outputs": [
    {
     "data": {
      "text/html": [
       "<style>#sk-container-id-4 {color: black;background-color: white;}#sk-container-id-4 pre{padding: 0;}#sk-container-id-4 div.sk-toggleable {background-color: white;}#sk-container-id-4 label.sk-toggleable__label {cursor: pointer;display: block;width: 100%;margin-bottom: 0;padding: 0.3em;box-sizing: border-box;text-align: center;}#sk-container-id-4 label.sk-toggleable__label-arrow:before {content: \"▸\";float: left;margin-right: 0.25em;color: #696969;}#sk-container-id-4 label.sk-toggleable__label-arrow:hover:before {color: black;}#sk-container-id-4 div.sk-estimator:hover label.sk-toggleable__label-arrow:before {color: black;}#sk-container-id-4 div.sk-toggleable__content {max-height: 0;max-width: 0;overflow: hidden;text-align: left;background-color: #f0f8ff;}#sk-container-id-4 div.sk-toggleable__content pre {margin: 0.2em;color: black;border-radius: 0.25em;background-color: #f0f8ff;}#sk-container-id-4 input.sk-toggleable__control:checked~div.sk-toggleable__content {max-height: 200px;max-width: 100%;overflow: auto;}#sk-container-id-4 input.sk-toggleable__control:checked~label.sk-toggleable__label-arrow:before {content: \"▾\";}#sk-container-id-4 div.sk-estimator input.sk-toggleable__control:checked~label.sk-toggleable__label {background-color: #d4ebff;}#sk-container-id-4 div.sk-label input.sk-toggleable__control:checked~label.sk-toggleable__label {background-color: #d4ebff;}#sk-container-id-4 input.sk-hidden--visually {border: 0;clip: rect(1px 1px 1px 1px);clip: rect(1px, 1px, 1px, 1px);height: 1px;margin: -1px;overflow: hidden;padding: 0;position: absolute;width: 1px;}#sk-container-id-4 div.sk-estimator {font-family: monospace;background-color: #f0f8ff;border: 1px dotted black;border-radius: 0.25em;box-sizing: border-box;margin-bottom: 0.5em;}#sk-container-id-4 div.sk-estimator:hover {background-color: #d4ebff;}#sk-container-id-4 div.sk-parallel-item::after {content: \"\";width: 100%;border-bottom: 1px solid gray;flex-grow: 1;}#sk-container-id-4 div.sk-label:hover label.sk-toggleable__label {background-color: #d4ebff;}#sk-container-id-4 div.sk-serial::before {content: \"\";position: absolute;border-left: 1px solid gray;box-sizing: border-box;top: 0;bottom: 0;left: 50%;z-index: 0;}#sk-container-id-4 div.sk-serial {display: flex;flex-direction: column;align-items: center;background-color: white;padding-right: 0.2em;padding-left: 0.2em;position: relative;}#sk-container-id-4 div.sk-item {position: relative;z-index: 1;}#sk-container-id-4 div.sk-parallel {display: flex;align-items: stretch;justify-content: center;background-color: white;position: relative;}#sk-container-id-4 div.sk-item::before, #sk-container-id-4 div.sk-parallel-item::before {content: \"\";position: absolute;border-left: 1px solid gray;box-sizing: border-box;top: 0;bottom: 0;left: 50%;z-index: -1;}#sk-container-id-4 div.sk-parallel-item {display: flex;flex-direction: column;z-index: 1;position: relative;background-color: white;}#sk-container-id-4 div.sk-parallel-item:first-child::after {align-self: flex-end;width: 50%;}#sk-container-id-4 div.sk-parallel-item:last-child::after {align-self: flex-start;width: 50%;}#sk-container-id-4 div.sk-parallel-item:only-child::after {width: 0;}#sk-container-id-4 div.sk-dashed-wrapped {border: 1px dashed gray;margin: 0 0.4em 0.5em 0.4em;box-sizing: border-box;padding-bottom: 0.4em;background-color: white;}#sk-container-id-4 div.sk-label label {font-family: monospace;font-weight: bold;display: inline-block;line-height: 1.2em;}#sk-container-id-4 div.sk-label-container {text-align: center;}#sk-container-id-4 div.sk-container {/* jupyter's `normalize.less` sets `[hidden] { display: none; }` but bootstrap.min.css set `[hidden] { display: none !important; }` so we also need the `!important` here to be able to override the default hidden behavior on the sphinx rendered scikit-learn.org. See: https://github.com/scikit-learn/scikit-learn/issues/21755 */display: inline-block !important;position: relative;}#sk-container-id-4 div.sk-text-repr-fallback {display: none;}</style><div id=\"sk-container-id-4\" class=\"sk-top-container\"><div class=\"sk-text-repr-fallback\"><pre>LinearRegression()</pre><b>In a Jupyter environment, please rerun this cell to show the HTML representation or trust the notebook. <br />On GitHub, the HTML representation is unable to render, please try loading this page with nbviewer.org.</b></div><div class=\"sk-container\" hidden><div class=\"sk-item\"><div class=\"sk-estimator sk-toggleable\"><input class=\"sk-toggleable__control sk-hidden--visually\" id=\"sk-estimator-id-10\" type=\"checkbox\" checked><label for=\"sk-estimator-id-10\" class=\"sk-toggleable__label sk-toggleable__label-arrow\">LinearRegression</label><div class=\"sk-toggleable__content\"><pre>LinearRegression()</pre></div></div></div></div></div>"
      ],
      "text/plain": [
       "LinearRegression()"
      ]
     },
     "execution_count": 63,
     "metadata": {},
     "output_type": "execute_result"
    }
   ],
   "source": [
    "model3.fit(x_train, y_train)"
   ]
  },
  {
   "cell_type": "code",
   "execution_count": 65,
   "id": "cf860c0b-51b9-4fdc-b671-52d8aa2163c8",
   "metadata": {},
   "outputs": [
    {
     "data": {
      "text/plain": [
       "array([18.89])"
      ]
     },
     "execution_count": 65,
     "metadata": {},
     "output_type": "execute_result"
    }
   ],
   "source": [
    "import numpy as np\n",
    "np.round(model3.intercept_,2)   # B0"
   ]
  },
  {
   "cell_type": "code",
   "execution_count": 69,
   "id": "f8a180f2-bc26-4aec-a8ed-2883899e9079",
   "metadata": {},
   "outputs": [
    {
     "data": {
      "text/plain": [
       "array([[-0.01 ,  1.   ,  0.034,  0.   ]])"
      ]
     },
     "execution_count": 69,
     "metadata": {},
     "output_type": "execute_result"
    }
   ],
   "source": [
    "np.round(model3.coef_,3)"
   ]
  },
  {
   "cell_type": "code",
   "execution_count": 70,
   "id": "a30ebaeb-0a8f-462b-b476-fa953a8bcc39",
   "metadata": {},
   "outputs": [
    {
     "data": {
      "text/plain": [
       "array(['Rank', 'Profit', 'Assets', 'Employees'], dtype=object)"
      ]
     },
     "execution_count": 70,
     "metadata": {},
     "output_type": "execute_result"
    }
   ],
   "source": [
    "model3.feature_names_in_"
   ]
  },
  {
   "cell_type": "markdown",
   "id": "6117a99f-b3e5-493c-a35f-1b3761bb95f4",
   "metadata": {},
   "source": [
    "# Prediction on train"
   ]
  },
  {
   "cell_type": "code",
   "execution_count": 71,
   "id": "b8acc551-c4df-4b82-a1c0-941781d8e939",
   "metadata": {},
   "outputs": [],
   "source": [
    "train['fitted'] = np.round(model3.predict(x_train),2)"
   ]
  },
  {
   "cell_type": "code",
   "execution_count": 72,
   "id": "7bb32d80-0b9c-45ae-9efa-fdfbd5d9c78c",
   "metadata": {},
   "outputs": [],
   "source": [
    "train['residual'] = np.round(train.Sales - train.fitted,2)"
   ]
  },
  {
   "cell_type": "code",
   "execution_count": 73,
   "id": "5c563f77-fa56-42da-aaa4-bdc7d88deaa0",
   "metadata": {},
   "outputs": [
    {
     "data": {
      "text/html": [
       "<div>\n",
       "<style scoped>\n",
       "    .dataframe tbody tr th:only-of-type {\n",
       "        vertical-align: middle;\n",
       "    }\n",
       "\n",
       "    .dataframe tbody tr th {\n",
       "        vertical-align: top;\n",
       "    }\n",
       "\n",
       "    .dataframe thead th {\n",
       "        text-align: right;\n",
       "    }\n",
       "</style>\n",
       "<table border=\"1\" class=\"dataframe\">\n",
       "  <thead>\n",
       "    <tr style=\"text-align: right;\">\n",
       "      <th></th>\n",
       "      <th>Rank</th>\n",
       "      <th>Profit</th>\n",
       "      <th>Assets</th>\n",
       "      <th>Employees</th>\n",
       "      <th>Sales</th>\n",
       "      <th>fitted</th>\n",
       "      <th>residual</th>\n",
       "    </tr>\n",
       "  </thead>\n",
       "  <tbody>\n",
       "    <tr>\n",
       "      <th>1014</th>\n",
       "      <td>1015</td>\n",
       "      <td>1.10</td>\n",
       "      <td>23.6</td>\n",
       "      <td>46580.0</td>\n",
       "      <td>14.2</td>\n",
       "      <td>18.85</td>\n",
       "      <td>-4.65</td>\n",
       "    </tr>\n",
       "    <tr>\n",
       "      <th>1945</th>\n",
       "      <td>1946</td>\n",
       "      <td>0.70</td>\n",
       "      <td>7.0</td>\n",
       "      <td>5000.0</td>\n",
       "      <td>3.4</td>\n",
       "      <td>0.52</td>\n",
       "      <td>2.88</td>\n",
       "    </tr>\n",
       "    <tr>\n",
       "      <th>1048</th>\n",
       "      <td>1049</td>\n",
       "      <td>1.30</td>\n",
       "      <td>85.7</td>\n",
       "      <td>8617.0</td>\n",
       "      <td>6.1</td>\n",
       "      <td>13.82</td>\n",
       "      <td>-7.72</td>\n",
       "    </tr>\n",
       "    <tr>\n",
       "      <th>1416</th>\n",
       "      <td>1417</td>\n",
       "      <td>-1.70</td>\n",
       "      <td>26.8</td>\n",
       "      <td>27791.0</td>\n",
       "      <td>16.8</td>\n",
       "      <td>8.51</td>\n",
       "      <td>8.29</td>\n",
       "    </tr>\n",
       "    <tr>\n",
       "      <th>1422</th>\n",
       "      <td>1423</td>\n",
       "      <td>0.56</td>\n",
       "      <td>86.9</td>\n",
       "      <td>11803.0</td>\n",
       "      <td>3.3</td>\n",
       "      <td>9.82</td>\n",
       "      <td>-6.52</td>\n",
       "    </tr>\n",
       "  </tbody>\n",
       "</table>\n",
       "</div>"
      ],
      "text/plain": [
       "      Rank  Profit  Assets  Employees  Sales  fitted  residual\n",
       "1014  1015    1.10    23.6    46580.0   14.2   18.85     -4.65\n",
       "1945  1946    0.70     7.0     5000.0    3.4    0.52      2.88\n",
       "1048  1049    1.30    85.7     8617.0    6.1   13.82     -7.72\n",
       "1416  1417   -1.70    26.8    27791.0   16.8    8.51      8.29\n",
       "1422  1423    0.56    86.9    11803.0    3.3    9.82     -6.52"
      ]
     },
     "execution_count": 73,
     "metadata": {},
     "output_type": "execute_result"
    }
   ],
   "source": [
    "train.head()"
   ]
  },
  {
   "cell_type": "markdown",
   "id": "f844bac0-4a69-49a1-ac12-f762f8a5f791",
   "metadata": {},
   "source": [
    "## Accuracy"
   ]
  },
  {
   "cell_type": "code",
   "execution_count": 74,
   "id": "83045ccd-6b99-4f6f-b7e9-2e4a41b2bb6d",
   "metadata": {},
   "outputs": [],
   "source": [
    "from sklearn.metrics import r2_score"
   ]
  },
  {
   "cell_type": "code",
   "execution_count": 76,
   "id": "c6409602-febc-4926-8900-5cbbcab35701",
   "metadata": {},
   "outputs": [
    {
     "data": {
      "text/plain": [
       "63.82326548968853"
      ]
     },
     "execution_count": 76,
     "metadata": {},
     "output_type": "execute_result"
    }
   ],
   "source": [
    "r2 = r2_score(train.Sales, train.fitted)\n",
    "r2*100"
   ]
  },
  {
   "cell_type": "markdown",
   "id": "b2948974-1dc1-40f9-a0e6-db2d05c3883a",
   "metadata": {},
   "source": [
    "## Loss / Cost / Error Function - RMSE"
   ]
  },
  {
   "cell_type": "code",
   "execution_count": 77,
   "id": "87778337-863f-4aae-908e-dab8378a4a64",
   "metadata": {},
   "outputs": [],
   "source": [
    "from sklearn.metrics import mean_squared_error"
   ]
  },
  {
   "cell_type": "code",
   "execution_count": 78,
   "id": "9d896af2-95e2-4a4e-a29e-0b109a1c976f",
   "metadata": {},
   "outputs": [
    {
     "data": {
      "text/plain": [
       "9.951055883342395"
      ]
     },
     "execution_count": 78,
     "metadata": {},
     "output_type": "execute_result"
    }
   ],
   "source": [
    "model_mse = mean_squared_error(train['Sales'], train['fitted'])\n",
    "model_rmse = np.sqrt(model_mse)\n",
    "model_rmse"
   ]
  },
  {
   "cell_type": "markdown",
   "id": "3a2ad518-9b6f-4b13-ae62-a5f77b41e369",
   "metadata": {},
   "source": [
    "## Assumption of model"
   ]
  },
  {
   "cell_type": "markdown",
   "id": "a85d66b2-2a91-4d76-acc6-f266ce276ab6",
   "metadata": {},
   "source": [
    "## 1.Linearity"
   ]
  },
  {
   "cell_type": "code",
   "execution_count": 82,
   "id": "c39af247-70c6-4afe-b50f-90e177fd73be",
   "metadata": {},
   "outputs": [
    {
     "data": {
      "text/plain": [
       "<Axes: xlabel='Rank', ylabel='Sales'>"
      ]
     },
     "execution_count": 82,
     "metadata": {},
     "output_type": "execute_result"
    },
    {
     "data": {
      "image/png": "[encoded data removed]",
      "text/plain": [
       "<Figure size 640x480 with 1 Axes>"
      ]
     },
     "metadata": {},
     "output_type": "display_data"
    }
   ],
   "source": [
    "sns.scatterplot(x = 'Rank', y ='Sales', data = train)"
   ]
  },
  {
   "cell_type": "code",
   "execution_count": 83,
   "id": "add869f3-4c7b-4a34-b9fe-39d79d7385df",
   "metadata": {},
   "outputs": [
    {
     "data": {
      "text/plain": [
       "<Axes: xlabel='fitted', ylabel='residual'>"
      ]
     },
     "execution_count": 83,
     "metadata": {},
     "output_type": "execute_result"
    },
    {
     "data": {
      "image/png": "[encoded data removed]",
      "text/plain": [
       "<Figure size 640x480 with 1 Axes>"
      ]
     },
     "metadata": {},
     "output_type": "display_data"
    }
   ],
   "source": [
    "sns.scatterplot(x = 'fitted', y = 'residual', data = train)"
   ]
  },
  {
   "cell_type": "code",
   "execution_count": 84,
   "id": "ef612d47-e35c-4826-98d0-6d956aa4b290",
   "metadata": {},
   "outputs": [
    {
     "data": {
      "image/png": "[encoded data removed]",
      "text/plain": [
       "<Figure size 640x480 with 1 Axes>"
      ]
     },
     "metadata": {},
     "output_type": "display_data"
    }
   ],
   "source": [
    "import statsmodels.api as sm\n",
    "fig = sm.qqplot(train['residual'], fit=True, line='s') # s indicate standardized line\n",
    "import matplotlib.pyplot as plt\n",
    "plt.show()"
   ]
  },
  {
   "cell_type": "code",
   "execution_count": 85,
   "id": "123fc9dd-2f62-45d6-9635-a09139070f49",
   "metadata": {},
   "outputs": [
    {
     "data": {
      "text/plain": [
       "<Axes: ylabel='Frequency'>"
      ]
     },
     "execution_count": 85,
     "metadata": {},
     "output_type": "execute_result"
    },
    {
     "data": {
      "image/png": "[encoded data removed]",
      "text/plain": [
       "<Figure size 640x480 with 1 Axes>"
      ]
     },
     "metadata": {},
     "output_type": "display_data"
    }
   ],
   "source": [
    "train['residual'].plot.hist()"
   ]
  },
  {
   "cell_type": "markdown",
   "id": "e824783c-85d6-444e-92e6-76dd86195df1",
   "metadata": {},
   "source": [
    "## Prediction on test data"
   ]
  },
  {
   "cell_type": "code",
   "execution_count": 86,
   "id": "ea997e98-f3dd-47ee-bbf7-e2444423cbfb",
   "metadata": {},
   "outputs": [
    {
     "data": {
      "text/plain": [
       "array(['Rank', 'Profit', 'Assets', 'Employees'], dtype=object)"
      ]
     },
     "execution_count": 86,
     "metadata": {},
     "output_type": "execute_result"
    }
   ],
   "source": [
    "model3.feature_names_in_"
   ]
  },
  {
   "cell_type": "code",
   "execution_count": 87,
   "id": "ae73e961-bddc-4573-ae2f-66a440f5444e",
   "metadata": {},
   "outputs": [
    {
     "data": {
      "text/html": [
       "<div>\n",
       "<style scoped>\n",
       "    .dataframe tbody tr th:only-of-type {\n",
       "        vertical-align: middle;\n",
       "    }\n",
       "\n",
       "    .dataframe tbody tr th {\n",
       "        vertical-align: top;\n",
       "    }\n",
       "\n",
       "    .dataframe thead th {\n",
       "        text-align: right;\n",
       "    }\n",
       "</style>\n",
       "<table border=\"1\" class=\"dataframe\">\n",
       "  <thead>\n",
       "    <tr style=\"text-align: right;\">\n",
       "      <th></th>\n",
       "      <th>Rank</th>\n",
       "      <th>Profit</th>\n",
       "      <th>Assets</th>\n",
       "      <th>Employees</th>\n",
       "    </tr>\n",
       "  </thead>\n",
       "  <tbody>\n",
       "    <tr>\n",
       "      <th>1066</th>\n",
       "      <td>1067</td>\n",
       "      <td>0.990</td>\n",
       "      <td>14.1</td>\n",
       "      <td>66000.0</td>\n",
       "    </tr>\n",
       "    <tr>\n",
       "      <th>1076</th>\n",
       "      <td>1077</td>\n",
       "      <td>-2.025</td>\n",
       "      <td>101.6</td>\n",
       "      <td>11977.0</td>\n",
       "    </tr>\n",
       "    <tr>\n",
       "      <th>561</th>\n",
       "      <td>562</td>\n",
       "      <td>2.900</td>\n",
       "      <td>113.7</td>\n",
       "      <td>41547.0</td>\n",
       "    </tr>\n",
       "    <tr>\n",
       "      <th>1500</th>\n",
       "      <td>1501</td>\n",
       "      <td>0.450</td>\n",
       "      <td>110.2</td>\n",
       "      <td>8140.0</td>\n",
       "    </tr>\n",
       "    <tr>\n",
       "      <th>1539</th>\n",
       "      <td>1540</td>\n",
       "      <td>0.920</td>\n",
       "      <td>6.5</td>\n",
       "      <td>6138.0</td>\n",
       "    </tr>\n",
       "  </tbody>\n",
       "</table>\n",
       "</div>"
      ],
      "text/plain": [
       "      Rank  Profit  Assets  Employees\n",
       "1066  1067   0.990    14.1    66000.0\n",
       "1076  1077  -2.025   101.6    11977.0\n",
       "561    562   2.900   113.7    41547.0\n",
       "1500  1501   0.450   110.2     8140.0\n",
       "1539  1540   0.920     6.5     6138.0"
      ]
     },
     "execution_count": 87,
     "metadata": {},
     "output_type": "execute_result"
    }
   ],
   "source": [
    "x_test  = x_test.loc[:,['Rank', 'Profit', 'Assets', 'Employees']]\n",
    "x_test.head()"
   ]
  },
  {
   "cell_type": "code",
   "execution_count": 88,
   "id": "abd20d03-e698-48af-8def-73bfe70e3e23",
   "metadata": {},
   "outputs": [
    {
     "data": {
      "text/html": [
       "<div>\n",
       "<style scoped>\n",
       "    .dataframe tbody tr th:only-of-type {\n",
       "        vertical-align: middle;\n",
       "    }\n",
       "\n",
       "    .dataframe tbody tr th {\n",
       "        vertical-align: top;\n",
       "    }\n",
       "\n",
       "    .dataframe thead th {\n",
       "        text-align: right;\n",
       "    }\n",
       "</style>\n",
       "<table border=\"1\" class=\"dataframe\">\n",
       "  <thead>\n",
       "    <tr style=\"text-align: right;\">\n",
       "      <th></th>\n",
       "      <th>Rank</th>\n",
       "      <th>Profit</th>\n",
       "      <th>Assets</th>\n",
       "      <th>Employees</th>\n",
       "      <th>Sales</th>\n",
       "    </tr>\n",
       "  </thead>\n",
       "  <tbody>\n",
       "    <tr>\n",
       "      <th>1066</th>\n",
       "      <td>1067</td>\n",
       "      <td>0.990</td>\n",
       "      <td>14.1</td>\n",
       "      <td>66000.0</td>\n",
       "      <td>12.0</td>\n",
       "    </tr>\n",
       "    <tr>\n",
       "      <th>1076</th>\n",
       "      <td>1077</td>\n",
       "      <td>-2.025</td>\n",
       "      <td>101.6</td>\n",
       "      <td>11977.0</td>\n",
       "      <td>5.3</td>\n",
       "    </tr>\n",
       "    <tr>\n",
       "      <th>561</th>\n",
       "      <td>562</td>\n",
       "      <td>2.900</td>\n",
       "      <td>113.7</td>\n",
       "      <td>41547.0</td>\n",
       "      <td>11.8</td>\n",
       "    </tr>\n",
       "    <tr>\n",
       "      <th>1500</th>\n",
       "      <td>1501</td>\n",
       "      <td>0.450</td>\n",
       "      <td>110.2</td>\n",
       "      <td>8140.0</td>\n",
       "      <td>5.7</td>\n",
       "    </tr>\n",
       "    <tr>\n",
       "      <th>1539</th>\n",
       "      <td>1540</td>\n",
       "      <td>0.920</td>\n",
       "      <td>6.5</td>\n",
       "      <td>6138.0</td>\n",
       "      <td>2.6</td>\n",
       "    </tr>\n",
       "  </tbody>\n",
       "</table>\n",
       "</div>"
      ],
      "text/plain": [
       "      Rank  Profit  Assets  Employees  Sales\n",
       "1066  1067   0.990    14.1    66000.0   12.0\n",
       "1076  1077  -2.025   101.6    11977.0    5.3\n",
       "561    562   2.900   113.7    41547.0   11.8\n",
       "1500  1501   0.450   110.2     8140.0    5.7\n",
       "1539  1540   0.920     6.5     6138.0    2.6"
      ]
     },
     "execution_count": 88,
     "metadata": {},
     "output_type": "execute_result"
    }
   ],
   "source": [
    "test = pd.concat([x_test, y_test], axis = 1)\n",
    "test.head()"
   ]
  },
  {
   "cell_type": "code",
   "execution_count": 89,
   "id": "40112071-9cd8-4190-8591-60104dee9cb4",
   "metadata": {},
   "outputs": [
    {
     "data": {
      "text/html": [
       "<div>\n",
       "<style scoped>\n",
       "    .dataframe tbody tr th:only-of-type {\n",
       "        vertical-align: middle;\n",
       "    }\n",
       "\n",
       "    .dataframe tbody tr th {\n",
       "        vertical-align: top;\n",
       "    }\n",
       "\n",
       "    .dataframe thead th {\n",
       "        text-align: right;\n",
       "    }\n",
       "</style>\n",
       "<table border=\"1\" class=\"dataframe\">\n",
       "  <thead>\n",
       "    <tr style=\"text-align: right;\">\n",
       "      <th></th>\n",
       "      <th>Rank</th>\n",
       "      <th>Profit</th>\n",
       "      <th>Assets</th>\n",
       "      <th>Employees</th>\n",
       "      <th>Sales</th>\n",
       "      <th>fitted</th>\n",
       "    </tr>\n",
       "  </thead>\n",
       "  <tbody>\n",
       "    <tr>\n",
       "      <th>1066</th>\n",
       "      <td>1067</td>\n",
       "      <td>0.990</td>\n",
       "      <td>14.1</td>\n",
       "      <td>66000.0</td>\n",
       "      <td>12.0</td>\n",
       "      <td>21.47</td>\n",
       "    </tr>\n",
       "    <tr>\n",
       "      <th>1076</th>\n",
       "      <td>1077</td>\n",
       "      <td>-2.025</td>\n",
       "      <td>101.6</td>\n",
       "      <td>11977.0</td>\n",
       "      <td>5.3</td>\n",
       "      <td>11.37</td>\n",
       "    </tr>\n",
       "    <tr>\n",
       "      <th>561</th>\n",
       "      <td>562</td>\n",
       "      <td>2.900</td>\n",
       "      <td>113.7</td>\n",
       "      <td>41547.0</td>\n",
       "      <td>11.8</td>\n",
       "      <td>27.53</td>\n",
       "    </tr>\n",
       "    <tr>\n",
       "      <th>1500</th>\n",
       "      <td>1501</td>\n",
       "      <td>0.450</td>\n",
       "      <td>110.2</td>\n",
       "      <td>8140.0</td>\n",
       "      <td>5.7</td>\n",
       "      <td>9.03</td>\n",
       "    </tr>\n",
       "    <tr>\n",
       "      <th>1539</th>\n",
       "      <td>1540</td>\n",
       "      <td>0.920</td>\n",
       "      <td>6.5</td>\n",
       "      <td>6138.0</td>\n",
       "      <td>2.6</td>\n",
       "      <td>5.15</td>\n",
       "    </tr>\n",
       "  </tbody>\n",
       "</table>\n",
       "</div>"
      ],
      "text/plain": [
       "      Rank  Profit  Assets  Employees  Sales  fitted\n",
       "1066  1067   0.990    14.1    66000.0   12.0   21.47\n",
       "1076  1077  -2.025   101.6    11977.0    5.3   11.37\n",
       "561    562   2.900   113.7    41547.0   11.8   27.53\n",
       "1500  1501   0.450   110.2     8140.0    5.7    9.03\n",
       "1539  1540   0.920     6.5     6138.0    2.6    5.15"
      ]
     },
     "execution_count": 89,
     "metadata": {},
     "output_type": "execute_result"
    }
   ],
   "source": [
    "test['fitted'] = np.round(model3.predict(x_test),2)\n",
    "test.head()"
   ]
  },
  {
   "cell_type": "code",
   "execution_count": 90,
   "id": "54abd2c3-0ed8-4490-bd33-4c3a056f9e88",
   "metadata": {},
   "outputs": [
    {
     "data": {
      "text/html": [
       "<div>\n",
       "<style scoped>\n",
       "    .dataframe tbody tr th:only-of-type {\n",
       "        vertical-align: middle;\n",
       "    }\n",
       "\n",
       "    .dataframe tbody tr th {\n",
       "        vertical-align: top;\n",
       "    }\n",
       "\n",
       "    .dataframe thead th {\n",
       "        text-align: right;\n",
       "    }\n",
       "</style>\n",
       "<table border=\"1\" class=\"dataframe\">\n",
       "  <thead>\n",
       "    <tr style=\"text-align: right;\">\n",
       "      <th></th>\n",
       "      <th>Rank</th>\n",
       "      <th>Profit</th>\n",
       "      <th>Assets</th>\n",
       "      <th>Employees</th>\n",
       "      <th>Sales</th>\n",
       "      <th>fitted</th>\n",
       "      <th>residual</th>\n",
       "    </tr>\n",
       "  </thead>\n",
       "  <tbody>\n",
       "    <tr>\n",
       "      <th>1066</th>\n",
       "      <td>1067</td>\n",
       "      <td>0.990</td>\n",
       "      <td>14.1</td>\n",
       "      <td>66000.0</td>\n",
       "      <td>12.0</td>\n",
       "      <td>21.47</td>\n",
       "      <td>-9.47</td>\n",
       "    </tr>\n",
       "    <tr>\n",
       "      <th>1076</th>\n",
       "      <td>1077</td>\n",
       "      <td>-2.025</td>\n",
       "      <td>101.6</td>\n",
       "      <td>11977.0</td>\n",
       "      <td>5.3</td>\n",
       "      <td>11.37</td>\n",
       "      <td>-6.07</td>\n",
       "    </tr>\n",
       "    <tr>\n",
       "      <th>561</th>\n",
       "      <td>562</td>\n",
       "      <td>2.900</td>\n",
       "      <td>113.7</td>\n",
       "      <td>41547.0</td>\n",
       "      <td>11.8</td>\n",
       "      <td>27.53</td>\n",
       "      <td>-15.73</td>\n",
       "    </tr>\n",
       "    <tr>\n",
       "      <th>1500</th>\n",
       "      <td>1501</td>\n",
       "      <td>0.450</td>\n",
       "      <td>110.2</td>\n",
       "      <td>8140.0</td>\n",
       "      <td>5.7</td>\n",
       "      <td>9.03</td>\n",
       "      <td>-3.33</td>\n",
       "    </tr>\n",
       "    <tr>\n",
       "      <th>1539</th>\n",
       "      <td>1540</td>\n",
       "      <td>0.920</td>\n",
       "      <td>6.5</td>\n",
       "      <td>6138.0</td>\n",
       "      <td>2.6</td>\n",
       "      <td>5.15</td>\n",
       "      <td>-2.55</td>\n",
       "    </tr>\n",
       "  </tbody>\n",
       "</table>\n",
       "</div>"
      ],
      "text/plain": [
       "      Rank  Profit  Assets  Employees  Sales  fitted  residual\n",
       "1066  1067   0.990    14.1    66000.0   12.0   21.47     -9.47\n",
       "1076  1077  -2.025   101.6    11977.0    5.3   11.37     -6.07\n",
       "561    562   2.900   113.7    41547.0   11.8   27.53    -15.73\n",
       "1500  1501   0.450   110.2     8140.0    5.7    9.03     -3.33\n",
       "1539  1540   0.920     6.5     6138.0    2.6    5.15     -2.55"
      ]
     },
     "execution_count": 90,
     "metadata": {},
     "output_type": "execute_result"
    }
   ],
   "source": [
    "test['residual'] = np.round(test.Sales - test.fitted,2)\n",
    "test.head()"
   ]
  },
  {
   "cell_type": "code",
   "execution_count": 92,
   "id": "6f42be0f-7195-47c8-a57e-42c1b6034b2c",
   "metadata": {},
   "outputs": [
    {
     "data": {
      "text/plain": [
       "65.38920963867926"
      ]
     },
     "execution_count": 92,
     "metadata": {},
     "output_type": "execute_result"
    }
   ],
   "source": [
    "r2 = r2_score(test.Sales, test.fitted)\n",
    "r2*100"
   ]
  },
  {
   "cell_type": "markdown",
   "id": "65027cd3-43fb-4376-8637-dcdd20613e6c",
   "metadata": {},
   "source": [
    "## Loss function - RMSE"
   ]
  },
  {
   "cell_type": "code",
   "execution_count": 93,
   "id": "c338a048-0e32-4a2c-a8b8-cc1fde2479fe",
   "metadata": {},
   "outputs": [
    {
     "data": {
      "text/plain": [
       "10.188170244801709"
      ]
     },
     "execution_count": 93,
     "metadata": {},
     "output_type": "execute_result"
    }
   ],
   "source": [
    "model_mse = mean_squared_error(test['Sales'], test['fitted'])\n",
    "model_rmse = np.sqrt(model_mse)\n",
    "model_rmse"
   ]
  },
  {
   "cell_type": "code",
   "execution_count": null,
   "id": "670dc498-ff54-4824-a322-134d0435331d",
   "metadata": {},
   "outputs": [],
   "source": []
  }
 ],
 "metadata": {
  "kernelspec": {
   "display_name": "Python 3 (ipykernel)",
   "language": "python",
   "name": "python3"
  },
  "language_info": {
   "codemirror_mode": {
    "name": "ipython",
    "version": 3
   },
   "file_extension": ".py",
   "mimetype": "text/x-python",
   "name": "python",
   "nbconvert_exporter": "python",
   "pygments_lexer": "ipython3",
   "version": "3.11.7"
  }
 },
 "nbformat": 4,
 "nbformat_minor": 5
}
